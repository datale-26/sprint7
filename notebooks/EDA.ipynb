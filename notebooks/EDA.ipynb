{
 "cells": [
  {
   "cell_type": "code",
   "execution_count": null,
   "id": "124518aa",
   "metadata": {
    "vscode": {
     "languageId": "plaintext"
    }
   },
   "outputs": [],
   "source": [
    "import pandas as pd\n",
    "import plotly.express as px\n",
    "\n",
    "df = pd.read_csv('../vehicles_us.csv')\n",
    "\n",
    "fig_hist = px.histogram(df, x=\"odometer\", title=\"Odometer Distribution\")\n",
    "fig_hist.show()\n",
    "\n",
    "fig_scatter = px.scatter(df, x=\"odometer\", y=\"price\", title=\"Odometer vs Price\")\n",
    "fig_scatter.show()"
   ]
  }
 ],
 "metadata": {
  "language_info": {
   "name": "python"
  }
 },
 "nbformat": 4,
 "nbformat_minor": 5
}
